{
 "cells": [
  {
   "cell_type": "code",
   "execution_count": 38,
   "id": "04ae4318-dddb-4a00-b876-103b84b54cff",
   "metadata": {},
   "outputs": [],
   "source": [
    "import numpy as np"
   ]
  },
  {
   "cell_type": "code",
   "execution_count": 39,
   "id": "c579a10d-c85a-4c47-b1d2-9b3f29ae1917",
   "metadata": {},
   "outputs": [
    {
     "name": "stdout",
     "output_type": "stream",
     "text": [
      "[1, 2, 3, 4, 5] <class 'list'>\n"
     ]
    }
   ],
   "source": [
    "lst=[1,2,3,4,5]\n",
    "print(lst,type(lst))"
   ]
  },
  {
   "cell_type": "code",
   "execution_count": 40,
   "id": "e5191f72-609c-4d43-a5d8-ff63e20ac20d",
   "metadata": {},
   "outputs": [
    {
     "data": {
      "text/plain": [
       "array([1, 2, 3, 4, 5])"
      ]
     },
     "execution_count": 40,
     "metadata": {},
     "output_type": "execute_result"
    }
   ],
   "source": [
    "a=np.array(lst)\n",
    "a"
   ]
  },
  {
   "cell_type": "code",
   "execution_count": 43,
   "id": "00eb706b-d912-4404-8334-bef42496bf39",
   "metadata": {},
   "outputs": [
    {
     "name": "stdout",
     "output_type": "stream",
     "text": [
      "[[1 2 3]\n",
      " [4 5 6]] <class 'numpy.ndarray'>\n"
     ]
    }
   ],
   "source": [
    "b=np.array([[1,2,3],\n",
    "            [4,5,6]])\n",
    "print(b,type(b))"
   ]
  },
  {
   "cell_type": "code",
   "execution_count": 44,
   "id": "e970cc1c-5911-4334-a432-08e0d3b3e043",
   "metadata": {},
   "outputs": [
    {
     "name": "stdout",
     "output_type": "stream",
     "text": [
      "5\n",
      "6\n"
     ]
    }
   ],
   "source": [
    "print(a.size)\n",
    "print(b.size)"
   ]
  },
  {
   "cell_type": "code",
   "execution_count": 45,
   "id": "57a0a498-9cce-481a-a3aa-7e7ef409e1f7",
   "metadata": {},
   "outputs": [
    {
     "data": {
      "text/plain": [
       "2"
      ]
     },
     "execution_count": 45,
     "metadata": {},
     "output_type": "execute_result"
    }
   ],
   "source": [
    "# tell you dimension of the array(1d,2d,3d....)\n",
    "b.ndim"
   ]
  },
  {
   "cell_type": "code",
   "execution_count": 6,
   "id": "7a8e0fa0-6586-420b-a6ee-15d19f128a30",
   "metadata": {},
   "outputs": [
    {
     "name": "stdout",
     "output_type": "stream",
     "text": [
      "(5,)\n",
      "(2, 3)\n"
     ]
    }
   ],
   "source": [
    "# shape=(row,col)\n",
    "print(a.shape)\n",
    "print(b.shape)"
   ]
  },
  {
   "cell_type": "code",
   "execution_count": 46,
   "id": "fca289ad-8f47-4b94-9cd8-401d2b94283c",
   "metadata": {},
   "outputs": [
    {
     "data": {
      "text/plain": [
       "np.int64(6)"
      ]
     },
     "execution_count": 46,
     "metadata": {},
     "output_type": "execute_result"
    }
   ],
   "source": [
    "# access array using index\n",
    "b[1,2]"
   ]
  },
  {
   "cell_type": "code",
   "execution_count": 64,
   "id": "9e57d9f4-fe4c-46f6-bc21-0d14b4b3e891",
   "metadata": {},
   "outputs": [
    {
     "name": "stdout",
     "output_type": "stream",
     "text": [
      "[[1 2 3]\n",
      " [4 5 6]]\n"
     ]
    }
   ],
   "source": [
    "# reshape\n",
    "arr=np.array([1,2,3,4,5,6])\n",
    "new_arr=arr.reshape(2,3)\n",
    "print(new_arr)\n",
    "# new_arr.base"
   ]
  },
  {
   "cell_type": "code",
   "execution_count": 7,
   "id": "56833477-0ada-4903-8ff3-8503f69bde92",
   "metadata": {},
   "outputs": [
    {
     "data": {
      "text/plain": [
       "dtype('int64')"
      ]
     },
     "execution_count": 7,
     "metadata": {},
     "output_type": "execute_result"
    }
   ],
   "source": [
    "# dtype\n",
    "# i - integer\n",
    "# b - boolean\n",
    "# u - unsigned integer\n",
    "# f - float\n",
    "# c - complex float\n",
    "# m - timedelta\n",
    "# M - datetime\n",
    "# O - object\n",
    "# S - string\n",
    "# U - unicode string\n",
    "# V - fixed chunk of memory for other type ( void )\n",
    "\n",
    "b.dtype"
   ]
  },
  {
   "cell_type": "code",
   "execution_count": 8,
   "id": "fa209200-06d5-44cd-a93e-ade7aa392643",
   "metadata": {},
   "outputs": [
    {
     "name": "stdout",
     "output_type": "stream",
     "text": [
      "[[ 1.   2.   3.   4.   5. ]\n",
      " [ 5.   0.8  9.  99.   0. ]] float64\n"
     ]
    }
   ],
   "source": [
    "b=np.array([[1,2,3,4,5],[5,0.8,9,99,0]])\n",
    "print(b,b.dtype)"
   ]
  },
  {
   "cell_type": "code",
   "execution_count": 55,
   "id": "5a045ecf-fb8a-4ece-9ddb-86f8c5a66e98",
   "metadata": {},
   "outputs": [
    {
     "name": "stdout",
     "output_type": "stream",
     "text": [
      "[b'1' b'2' b'3' b'4']\n",
      "[1 2 3 4]\n"
     ]
    }
   ],
   "source": [
    "array=np.array([1,2,3,4],dtype='S')\n",
    "print(array)\n",
    "new_arr=array.astype(int)\n",
    "print(new_arr)"
   ]
  },
  {
   "cell_type": "code",
   "execution_count": 9,
   "id": "b5996fae-8694-4af2-910b-d9801b44385c",
   "metadata": {},
   "outputs": [
    {
     "data": {
      "text/plain": [
       "array([[ 1. ,  5. ],\n",
       "       [ 2. ,  0.8],\n",
       "       [ 3. ,  9. ],\n",
       "       [ 4. , 99. ],\n",
       "       [ 5. ,  0. ]])"
      ]
     },
     "execution_count": 9,
     "metadata": {},
     "output_type": "execute_result"
    }
   ],
   "source": [
    "b.transpose()"
   ]
  },
  {
   "cell_type": "code",
   "execution_count": 56,
   "id": "7a149079-92b4-4d89-9636-e17c2d87817d",
   "metadata": {},
   "outputs": [
    {
     "name": "stdout",
     "output_type": "stream",
     "text": [
      "None [1 2 3]\n"
     ]
    }
   ],
   "source": [
    "# copy vs view\n",
    "array=np.array([1,2,3])\n",
    "x=array.copy()\n",
    "y=array.view()\n",
    "print(x.base,y.base)"
   ]
  },
  {
   "cell_type": "markdown",
   "id": "c0f4f0d6-615b-43bf-96cb-ee9c5f562995",
   "metadata": {},
   "source": [
    "# np ones zeros empty"
   ]
  },
  {
   "cell_type": "code",
   "execution_count": 10,
   "id": "7cc68dc2-524e-4222-a1e2-418280f09c1a",
   "metadata": {},
   "outputs": [
    {
     "name": "stdout",
     "output_type": "stream",
     "text": [
      "[[0. 0. 0. 0.]\n",
      " [0. 0. 0. 0.]\n",
      " [0. 0. 0. 0.]] <class 'numpy.ndarray'> float64\n"
     ]
    }
   ],
   "source": [
    "#np.empty\n",
    "# not necessay it is zero\n",
    "\n",
    "empt=np.empty((3,4),dtype='float')\n",
    "print(empt,type(empt),empt.dtype)"
   ]
  },
  {
   "cell_type": "code",
   "execution_count": 11,
   "id": "cb29a2f4-db80-41c3-8c14-3adb6fa8ccca",
   "metadata": {},
   "outputs": [
    {
     "name": "stdout",
     "output_type": "stream",
     "text": [
      "[1. 1. 1.]\n",
      "[[1. 1. 1. 1. 1. 1.]\n",
      " [1. 1. 1. 1. 1. 1.]\n",
      " [1. 1. 1. 1. 1. 1.]]\n"
     ]
    }
   ],
   "source": [
    "# creates array with ones\n",
    "first_one=np.ones(3)\n",
    "sec_one=np.ones((3,6),dtype='float')\n",
    "print(first_one)\n",
    "print(sec_one)"
   ]
  },
  {
   "cell_type": "code",
   "execution_count": 12,
   "id": "e2378317-6d59-44d4-bb4b-fa5fb06c47a9",
   "metadata": {},
   "outputs": [
    {
     "data": {
      "text/plain": [
       "array([['1', '1', '1', '1', '1', '1'],\n",
       "       ['1', '1', '1', '1', '1', '1'],\n",
       "       ['1', '1', '1', '1', '1', '1']], dtype='<U1')"
      ]
     },
     "execution_count": 12,
     "metadata": {},
     "output_type": "execute_result"
    }
   ],
   "source": [
    "np.ones((3,6),dtype='str')"
   ]
  },
  {
   "cell_type": "code",
   "execution_count": 13,
   "id": "6b2c2114-323f-42bc-a7be-9928c41ad258",
   "metadata": {},
   "outputs": [
    {
     "data": {
      "text/plain": [
       "array([['', '', '', '', '', ''],\n",
       "       ['', '', '', '', '', ''],\n",
       "       ['', '', '', '', '', '']], dtype='<U1')"
      ]
     },
     "execution_count": 13,
     "metadata": {},
     "output_type": "execute_result"
    }
   ],
   "source": [
    "string=np.zeros((3,6),dtype='str')\n",
    "string\n",
    "# string.dtype"
   ]
  },
  {
   "cell_type": "code",
   "execution_count": 14,
   "id": "7663cb0e-66aa-4611-b48e-083dec8e62f1",
   "metadata": {},
   "outputs": [
    {
     "data": {
      "text/plain": [
       "array([[ True,  True,  True,  True,  True,  True],\n",
       "       [ True,  True,  True,  True,  True,  True],\n",
       "       [ True,  True,  True,  True,  True,  True]])"
      ]
     },
     "execution_count": 14,
     "metadata": {},
     "output_type": "execute_result"
    }
   ],
   "source": [
    "booles=np.ones((3,6),dtype='bool')\n",
    "booles\n",
    "# booles.dtype"
   ]
  },
  {
   "cell_type": "markdown",
   "id": "4502f7b1-bd1c-47be-ae3d-6e3876efdc53",
   "metadata": {},
   "source": [
    "# np-arange (like loop), np.reshape,ravel,flatten"
   ]
  },
  {
   "cell_type": "code",
   "execution_count": 15,
   "id": "bb4343e6-51fd-4879-a45e-5c8a309b9f74",
   "metadata": {},
   "outputs": [
    {
     "name": "stdout",
     "output_type": "stream",
     "text": [
      "[ 5  7  9 11 13 15 17 19 21] <class 'numpy.ndarray'>\n"
     ]
    }
   ],
   "source": [
    "a=np.arange(5,23,2)\n",
    "print(a,type(a))"
   ]
  },
  {
   "cell_type": "code",
   "execution_count": 16,
   "id": "dbdb18d6-22e1-4b22-8670-1d190758a8b6",
   "metadata": {},
   "outputs": [
    {
     "data": {
      "text/plain": [
       "array([[ 5,  7,  9],\n",
       "       [11, 13, 15],\n",
       "       [17, 19, 21]])"
      ]
     },
     "execution_count": 16,
     "metadata": {},
     "output_type": "execute_result"
    }
   ],
   "source": [
    "b=a.reshape((3,3))\n",
    "b"
   ]
  },
  {
   "cell_type": "code",
   "execution_count": 17,
   "id": "200e14c0-f7d7-4435-805a-d52472adc607",
   "metadata": {},
   "outputs": [
    {
     "name": "stdout",
     "output_type": "stream",
     "text": [
      "[[ 5  7  9]\n",
      " [11 13 15]\n",
      " [17 19 21]]\n",
      "[ 5  7  9 11 13 15 17 19 21]\n"
     ]
    }
   ],
   "source": [
    "c=b.flatten()\n",
    "print(b)\n",
    "print(c)"
   ]
  },
  {
   "cell_type": "code",
   "execution_count": 18,
   "id": "3de03ea2-5e39-4406-88a3-abda9b0ca73a",
   "metadata": {},
   "outputs": [
    {
     "name": "stdout",
     "output_type": "stream",
     "text": [
      "[[ 5  7  9]\n",
      " [11 13 15]\n",
      " [17 19 21]]\n",
      "[ 5  7  9 11 13 15 17 19 21]\n"
     ]
    }
   ],
   "source": [
    "d=b.ravel()\n",
    "print(b)\n",
    "print(d)"
   ]
  },
  {
   "cell_type": "markdown",
   "id": "788d9f72-fc95-41c9-bf7f-a0146c490f58",
   "metadata": {},
   "source": [
    "\n",
    "# slicing operation"
   ]
  },
  {
   "cell_type": "code",
   "execution_count": 19,
   "id": "d64f5340-e401-4531-8a80-37d8a0c53109",
   "metadata": {},
   "outputs": [
    {
     "name": "stdout",
     "output_type": "stream",
     "text": [
      "[ 1  2  3  4  5  6  7  8  9 10 11 12 13 14 15 16 17 18 19 20 21 22 23 24\n",
      " 25 26 27 28 29 30]\n"
     ]
    },
    {
     "data": {
      "text/plain": [
       "array([[ 1,  2,  3,  4,  5,  6],\n",
       "       [ 7,  8,  9, 10, 11, 12],\n",
       "       [13, 14, 15, 16, 17, 18],\n",
       "       [19, 20, 21, 22, 23, 24],\n",
       "       [25, 26, 27, 28, 29, 30]])"
      ]
     },
     "execution_count": 19,
     "metadata": {},
     "output_type": "execute_result"
    }
   ],
   "source": [
    "# [start:end:step], also work for negative indexing\n",
    "array=np.arange(1,31)\n",
    "print(array)\n",
    "array=array.reshape(5,6)\n",
    "array"
   ]
  },
  {
   "cell_type": "code",
   "execution_count": 20,
   "id": "3dfdaebd-ff71-45b6-889c-925925d2f5f9",
   "metadata": {},
   "outputs": [
    {
     "data": {
      "text/plain": [
       "np.int64(7)"
      ]
     },
     "execution_count": 20,
     "metadata": {},
     "output_type": "execute_result"
    }
   ],
   "source": [
    "array[1][0]"
   ]
  },
  {
   "cell_type": "code",
   "execution_count": 21,
   "id": "70fa8596-514b-4927-ab97-95f0a14df035",
   "metadata": {},
   "outputs": [
    {
     "data": {
      "text/plain": [
       "array([[ 1,  2,  3,  4,  5,  6],\n",
       "       [ 7,  8,  9, 10, 11, 12]])"
      ]
     },
     "execution_count": 21,
     "metadata": {},
     "output_type": "execute_result"
    }
   ],
   "source": [
    "array[0:2]"
   ]
  },
  {
   "cell_type": "code",
   "execution_count": 22,
   "id": "87b1b04c-c1c1-4ea2-a62e-4f94f6777f69",
   "metadata": {},
   "outputs": [
    {
     "data": {
      "text/plain": [
       "array([[1, 2, 3],\n",
       "       [7, 8, 9]])"
      ]
     },
     "execution_count": 22,
     "metadata": {},
     "output_type": "execute_result"
    }
   ],
   "source": [
    "array[0:2,0:3]"
   ]
  },
  {
   "cell_type": "markdown",
   "id": "05645253-754b-4afe-abbb-85e2cd289a52",
   "metadata": {},
   "source": [
    "# operation"
   ]
  },
  {
   "cell_type": "code",
   "execution_count": 23,
   "id": "849027ec-336b-4573-bcfa-86fe25bb1260",
   "metadata": {},
   "outputs": [
    {
     "name": "stdout",
     "output_type": "stream",
     "text": [
      "[[1 2 3 4]\n",
      " [5 6 7 8]]\n",
      "[[11 12 13 14]\n",
      " [15 16 17 18]]\n"
     ]
    }
   ],
   "source": [
    "array1=np.arange(1,9).reshape(2,4)\n",
    "array2=np.arange(11,19).reshape(2,4)\n",
    "print(array1)\n",
    "print(array2)"
   ]
  },
  {
   "cell_type": "code",
   "execution_count": 24,
   "id": "26f09f4c-4af3-4093-bd77-dbf7d3b7b57e",
   "metadata": {},
   "outputs": [
    {
     "data": {
      "text/plain": [
       "array([[12, 14, 16, 18],\n",
       "       [20, 22, 24, 26]])"
      ]
     },
     "execution_count": 24,
     "metadata": {},
     "output_type": "execute_result"
    }
   ],
   "source": [
    "array1+array2"
   ]
  },
  {
   "cell_type": "code",
   "execution_count": 25,
   "id": "58d22023-9585-48f7-a1a6-41867e6e6db6",
   "metadata": {},
   "outputs": [
    {
     "data": {
      "text/plain": [
       "array([[12, 14, 16, 18],\n",
       "       [20, 22, 24, 26]])"
      ]
     },
     "execution_count": 25,
     "metadata": {},
     "output_type": "execute_result"
    }
   ],
   "source": [
    "np.add(array1,array2)\n",
    "#similar subtract , multiply , division\n",
    "# a@b and a.dot(b) for matrix add and multiple"
   ]
  },
  {
   "cell_type": "code",
   "execution_count": null,
   "id": "2c80fd43-72a9-4d2c-806e-cb92eda56809",
   "metadata": {},
   "outputs": [],
   "source": []
  },
  {
   "cell_type": "code",
   "execution_count": 26,
   "id": "2cf222ab-16c4-412b-9960-7e50cc5f36da",
   "metadata": {},
   "outputs": [
    {
     "data": {
      "text/plain": [
       "np.int64(8)"
      ]
     },
     "execution_count": 26,
     "metadata": {},
     "output_type": "execute_result"
    }
   ],
   "source": [
    "array1.max()\n",
    "# similar for min"
   ]
  },
  {
   "cell_type": "code",
   "execution_count": 27,
   "id": "8fdc6ac4-1d62-47d8-bbce-7ba8bb1665c4",
   "metadata": {},
   "outputs": [
    {
     "data": {
      "text/plain": [
       "np.int64(7)"
      ]
     },
     "execution_count": 27,
     "metadata": {},
     "output_type": "execute_result"
    }
   ],
   "source": [
    "array1.argmax()\n",
    "# gives index"
   ]
  },
  {
   "cell_type": "code",
   "execution_count": 28,
   "id": "aee9b5d7-5a0e-49c1-b095-4cef0856f1d5",
   "metadata": {},
   "outputs": [
    {
     "data": {
      "text/plain": [
       "np.int64(36)"
      ]
     },
     "execution_count": 28,
     "metadata": {},
     "output_type": "execute_result"
    }
   ],
   "source": [
    "# for sum\n",
    "np.sum(array1)"
   ]
  },
  {
   "cell_type": "code",
   "execution_count": 29,
   "id": "27d7204d-ec15-490e-9d0d-d18af510d36a",
   "metadata": {},
   "outputs": [
    {
     "data": {
      "text/plain": [
       "array([10, 26])"
      ]
     },
     "execution_count": 29,
     "metadata": {},
     "output_type": "execute_result"
    }
   ],
   "source": [
    "# 1 for row and 0 for col\n",
    "np.sum(array1,axis=1)"
   ]
  },
  {
   "cell_type": "code",
   "execution_count": 74,
   "id": "00beabf3-6f06-4889-a125-49edb00314ab",
   "metadata": {},
   "outputs": [
    {
     "name": "stdout",
     "output_type": "stream",
     "text": [
      "[[1 2 5 6]\n",
      " [3 4 7 8]]\n"
     ]
    }
   ],
   "source": [
    "#concat in array\n",
    "arr1 = np.array([[1, 2], [3, 4]])\n",
    "\n",
    "arr2 = np.array([[5, 6], [7, 8]])\n",
    "\n",
    "arr = np.concatenate((arr1, arr2), axis=1)\n",
    "\n",
    "print(arr)"
   ]
  },
  {
   "cell_type": "code",
   "execution_count": 72,
   "id": "3488fa58-2491-4513-bcb1-05ebf2d36db7",
   "metadata": {},
   "outputs": [
    {
     "name": "stdout",
     "output_type": "stream",
     "text": [
      "[[1 4]\n",
      " [2 5]\n",
      " [3 6]]\n"
     ]
    }
   ],
   "source": [
    "arr1 = np.array([1, 2, 3])\n",
    "\n",
    "arr2 = np.array([4, 5, 6])\n",
    "\n",
    "arr = np.stack((arr1, arr2), axis=1)\n",
    "\n",
    "print(arr)"
   ]
  },
  {
   "cell_type": "code",
   "execution_count": 78,
   "id": "c0a29723-c044-46db-a721-45b0cd809026",
   "metadata": {},
   "outputs": [
    {
     "name": "stdout",
     "output_type": "stream",
     "text": [
      "[array([1, 2]), array([3, 4]), array([5, 6])]\n"
     ]
    }
   ],
   "source": [
    "# split\n",
    "arr = np.array([1, 2, 3, 4, 5, 6])\n",
    "newarr = np.array_split(arr, 3)\n",
    "print(newarr)"
   ]
  },
  {
   "cell_type": "code",
   "execution_count": 79,
   "id": "518f83bc-79bf-4187-89f4-f192c3dff3d6",
   "metadata": {},
   "outputs": [
    {
     "name": "stdout",
     "output_type": "stream",
     "text": [
      "[array([[1, 2, 3],\n",
      "       [4, 5, 6]]), array([[ 7,  8,  9],\n",
      "       [10, 11, 12]]), array([[13, 14, 15],\n",
      "       [16, 17, 18]])]\n"
     ]
    }
   ],
   "source": [
    "\n",
    "arr = np.array([[1, 2, 3], [4, 5, 6], [7, 8, 9], [10, 11, 12], [13, 14, 15], [16, 17, 18]])\n",
    "newarr = np.array_split(arr, 3)\n",
    "print(newarr)"
   ]
  },
  {
   "cell_type": "code",
   "execution_count": 84,
   "id": "a13c4a70-90bd-49d8-ab07-a77aea2eed4e",
   "metadata": {},
   "outputs": [
    {
     "name": "stdout",
     "output_type": "stream",
     "text": [
      "(array([3, 5, 6]),)\n",
      "[[2 3 4]\n",
      " [0 1 5]]\n"
     ]
    }
   ],
   "source": [
    "#search\n",
    "arr = np.array([1, 2, 3, 4, 5, 4, 4])\n",
    "x = np.where(arr == 4)\n",
    "print(x)\n",
    "\n",
    "#sort\n",
    "arr = np.array([[3, 2, 4], [5, 0, 1]])\n",
    "print(np.sort(arr))"
   ]
  },
  {
   "cell_type": "code",
   "execution_count": 88,
   "id": "d3b8c481-4823-46e3-b7df-ea2fd4900f69",
   "metadata": {},
   "outputs": [
    {
     "name": "stdout",
     "output_type": "stream",
     "text": [
      "[False  True False  True]\n",
      "[42 44]\n"
     ]
    }
   ],
   "source": [
    "# filters\n",
    "arr = np.array([41, 42, 43, 44])\n",
    "x = [True, False, True, False]\n",
    "newarr = arr[x]\n",
    "\n",
    "# y=arr%2==0\n",
    "# print(y)\n",
    "# newarr=arr[y]\n",
    "\n",
    "print(newarr)"
   ]
  },
  {
   "cell_type": "code",
   "execution_count": 95,
   "id": "8663d4d1-fd88-4201-a74e-3d071ef63e58",
   "metadata": {},
   "outputs": [
    {
     "name": "stdout",
     "output_type": "stream",
     "text": [
      "3.17\n",
      "[-4.  3.]\n"
     ]
    }
   ],
   "source": [
    "# round floor ceil\n",
    "arr = np.around(3.1666, 2)\n",
    "print(arr)\n",
    "\n",
    "arr = np.floor([-3.1666, 3.6667])\n",
    "print(arr)"
   ]
  },
  {
   "cell_type": "markdown",
   "id": "2ff5def2-d9a1-4e9b-9e4c-e2ae95b3f5cc",
   "metadata": {},
   "source": [
    "# Random "
   ]
  },
  {
   "cell_type": "code",
   "execution_count": 30,
   "id": "7b5a4e88-f369-4d55-9cd6-d26a1b008607",
   "metadata": {},
   "outputs": [
    {
     "data": {
      "text/plain": [
       "array([0.10985459, 0.68986578, 0.22144015])"
      ]
     },
     "execution_count": 30,
     "metadata": {},
     "output_type": "execute_result"
    }
   ],
   "source": [
    "np.random.random(3)"
   ]
  },
  {
   "cell_type": "code",
   "execution_count": 31,
   "id": "bf295dfd-2536-42d0-9941-0adddc707056",
   "metadata": {},
   "outputs": [
    {
     "data": {
      "text/plain": [
       "array([[0.35222506, 0.24971998, 0.57451438, 0.78859788],\n",
       "       [0.34332492, 0.76882957, 0.15450869, 0.29022497],\n",
       "       [0.20127349, 0.25080462, 0.56410314, 0.8171837 ]])"
      ]
     },
     "execution_count": 31,
     "metadata": {},
     "output_type": "execute_result"
    }
   ],
   "source": [
    "np.random.random((3,4))"
   ]
  },
  {
   "cell_type": "code",
   "execution_count": 32,
   "id": "22c3b49a-cafe-4214-be62-309aef8fc533",
   "metadata": {},
   "outputs": [
    {
     "data": {
      "text/plain": [
       "8"
      ]
     },
     "execution_count": 32,
     "metadata": {},
     "output_type": "execute_result"
    }
   ],
   "source": [
    "np.random.randint(1,10)\n",
    "# np.random.randint(1,10,(2,4))"
   ]
  },
  {
   "cell_type": "markdown",
   "id": "a3322b4d-772d-4ae0-8e0a-0377fd3d54ed",
   "metadata": {},
   "source": [
    "# strings"
   ]
  },
  {
   "cell_type": "code",
   "execution_count": 33,
   "id": "926ea96a-f72b-4d26-8bdb-6c3cb2b2c6aa",
   "metadata": {},
   "outputs": [],
   "source": [
    "a='hello how are you'\n",
    "b='i am good'"
   ]
  },
  {
   "cell_type": "code",
   "execution_count": 34,
   "id": "282ba9dc-b961-4fa7-9d94-9c131a3021f5",
   "metadata": {},
   "outputs": [
    {
     "data": {
      "text/plain": [
       "np.str_('hello how are youi am good')"
      ]
     },
     "execution_count": 34,
     "metadata": {},
     "output_type": "execute_result"
    }
   ],
   "source": [
    "np.char.add(a,b)"
   ]
  },
  {
   "cell_type": "code",
   "execution_count": 35,
   "id": "be18d694-f78e-4edf-8a92-0a9b4c537fd3",
   "metadata": {},
   "outputs": [
    {
     "data": {
      "text/plain": [
       "array('HELLO HOW ARE YOU', dtype='<U17')"
      ]
     },
     "execution_count": 35,
     "metadata": {},
     "output_type": "execute_result"
    }
   ],
   "source": [
    "np.char.upper(a)"
   ]
  },
  {
   "cell_type": "code",
   "execution_count": 36,
   "id": "19c1589d-1e79-4f02-bde8-1595297ad849",
   "metadata": {},
   "outputs": [
    {
     "data": {
      "text/plain": [
       "array(list(['hello', 'how', 'are', 'you']), dtype=object)"
      ]
     },
     "execution_count": 36,
     "metadata": {},
     "output_type": "execute_result"
    }
   ],
   "source": [
    "np.char.split(a)"
   ]
  },
  {
   "cell_type": "code",
   "execution_count": 37,
   "id": "7bbbdf7b-9a4d-4bdf-beb5-f9b66092a36b",
   "metadata": {},
   "outputs": [
    {
     "data": {
      "text/plain": [
       "array('hello how bre you', dtype='<U17')"
      ]
     },
     "execution_count": 37,
     "metadata": {},
     "output_type": "execute_result"
    }
   ],
   "source": [
    "np.char.replace(a,'a','b')"
   ]
  },
  {
   "cell_type": "code",
   "execution_count": null,
   "id": "9b4251f0-d870-48c8-bc1e-9f0c0e6866f1",
   "metadata": {},
   "outputs": [],
   "source": []
  }
 ],
 "metadata": {
  "kernelspec": {
   "display_name": "Python 3 (ipykernel)",
   "language": "python",
   "name": "python3"
  },
  "language_info": {
   "codemirror_mode": {
    "name": "ipython",
    "version": 3
   },
   "file_extension": ".py",
   "mimetype": "text/x-python",
   "name": "python",
   "nbconvert_exporter": "python",
   "pygments_lexer": "ipython3",
   "version": "3.12.4"
  }
 },
 "nbformat": 4,
 "nbformat_minor": 5
}
